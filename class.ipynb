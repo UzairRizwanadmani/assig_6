{
 "cells": [
  {
   "cell_type": "markdown",
   "metadata": {},
   "source": [
    "Write a Python program to create a class representing a Circle. Include methods to calculate its area and perimeter."
   ]
  },
  {
   "cell_type": "code",
   "execution_count": null,
   "metadata": {},
   "outputs": [],
   "source": [
    "class Circle:\n",
    "    def __init__(self, radius):\n",
    "        self.radius = radius\n",
    "\n",
    "    def area(self):\n",
    "        \"\"\"Calculate the area of the circle.\"\"\"\n",
    "        return 3.14159 * (self.radius ** 2)\n",
    "\n",
    "    def perimeter(self):\n",
    "        \"\"\"Calculate the perimeter (circumference) of the circle.\"\"\"\n",
    "        return 2 * 3.14159 * self.radius\n",
    "\n",
    "\n",
    "if __name__ == \"__main__\":\n",
    "    radius = float(input(\"Enter the radius of the circle: \"))\n",
    "    circle = Circle(radius)\n",
    "\n",
    "    print(f\"Area of the circle: {circle.area():.2f}\")\n",
    "    print(f\"Perimeter of the circle: {circle.perimeter():.2f}\")\n"
   ]
  },
  {
   "cell_type": "markdown",
   "metadata": {},
   "source": [
    "Write a Python program to create a person class. Include attributes like name, country and date of birth. Implement a method to determine the person's age."
   ]
  },
  {
   "cell_type": "code",
   "execution_count": null,
   "metadata": {},
   "outputs": [],
   "source": [
    "class Person:\n",
    "    def __init__(self, name, country, date_of_birth):\n",
    "        self.name = name\n",
    "        self.country = country\n",
    "        self.date_of_birth = date_of_birth \n",
    "\n",
    "    def age(self):\n",
    "        year, month, day = map(int, self.date_of_birth.split('/'))\n",
    "        current_year = 2024  \n",
    "        current_month = 10   \n",
    "        current_day = 27     \n",
    "        \n",
    "        age = current_year - year\n",
    "        \n",
    "        if (current_month, current_day) < (month, day):\n",
    "            age -= 1\n",
    "            \n",
    "        return age\n",
    "\n",
    "if __name__ == \"__main__\":\n",
    "    name = input(\"Enter your name: \")\n",
    "    country = input(\"Enter your country: \")\n",
    "    dob = input(\"Enter your date of birth (YYYY/MM/DD): \")\n",
    "    \n",
    "    person = Person(name, country, dob)\n",
    "    \n",
    "    print(f\"{person.name} from {person.country} is {person.age()} years old.\")"
   ]
  },
  {
   "cell_type": "markdown",
   "metadata": {},
   "source": [
    "Write a Python program to create a calculator class. Include methods for basic arithmetic operations.\n"
   ]
  },
  {
   "cell_type": "code",
   "execution_count": null,
   "metadata": {},
   "outputs": [],
   "source": [
    "class Calculator:\n",
    "    def add(self, a, b):\n",
    "        return a + b\n",
    "\n",
    "    def subtract(self, a, b):\n",
    "        return a - b\n",
    "\n",
    "    def multiply(self, a, b):\n",
    "        return a * b\n",
    "\n",
    "    def divide(self, a, b):\n",
    "        if b != 0:\n",
    "            return a / b\n",
    "        return \"Error: Division by zero\"\n",
    "\n",
    "if __name__ == \"__main__\":\n",
    "    calc = Calculator()\n",
    "    a = float(input(\"Enter first number: \"))\n",
    "    b = float(input(\"Enter second number: \"))\n",
    "    \n",
    "    print(\"Addition:\", calc.add(a, b))\n",
    "    print(\"Subtraction:\", calc.subtract(a, b))\n",
    "    print(\"Multiplication:\", calc.multiply(a, b))\n",
    "    print(\"Division:\", calc.divide(a, b))\n"
   ]
  }
 ],
 "metadata": {
  "kernelspec": {
   "display_name": "base",
   "language": "python",
   "name": "python3"
  },
  "language_info": {
   "codemirror_mode": {
    "name": "ipython",
    "version": 3
   },
   "file_extension": ".py",
   "mimetype": "text/x-python",
   "name": "python",
   "nbconvert_exporter": "python",
   "pygments_lexer": "ipython3",
   "version": "3.12.4"
  }
 },
 "nbformat": 4,
 "nbformat_minor": 2
}
